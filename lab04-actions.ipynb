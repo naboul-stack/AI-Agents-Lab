{
 "cells": [
  {
   "cell_type": "markdown",
   "metadata": {},
   "source": [
    "# Giving arms and legs to agents with tools\n",
    "\n",
    "An agent without any tool can only reason about the question it received. In order to allow agents to execute things we need to give them \"arms and legs\" using tools. Watch the great session [Scott and Mark learn AI](https://build.microsoft.com/en-US/sessions/10424a54-b809-48fc-9c8e-b8d4e3d0823a) on Microsoft Build 2024 to learn more about tools.\n",
    "\n",
    "In Azure Agent Service there are some built-in tools, but we can also provide custom tools to interact with external systems.\n",
    "\n",
    "First, let's setup the project."
   ]
  },
  {
   "cell_type": "code",
   "execution_count": null,
   "metadata": {},
   "outputs": [],
   "source": [
    "import os, jsonref\n",
    "from pprint import pp as pp\n",
    "\n",
    "from dotenv import load_dotenv\n",
    "from azure.ai.projects import AIProjectClient\n",
    "from azure.identity import DefaultAzureCredential\n",
    "from azure.ai.projects.models import CodeInterpreterTool\n",
    "from azure.ai.projects.models import FunctionTool, ToolSet\n",
    "from azure.ai.projects.models import OpenApiTool, OpenApiAnonymousAuthDetails\n",
    "\n",
    "# Load environment variables from .env file\n",
    "load_dotenv(override=True)\n",
    "\n",
    "def pprint(obj):\n",
    "    pp(obj.as_dict() if hasattr(obj, \"as_dict\") else obj, width=100)\n",
    "\n",
    "# Print the environments we will be using.\n",
    "print(f\"PROJECT_CONNECTION_STRING: {os.getenv('PROJECT_CONNECTION_STRING')}\")\n",
    "print(f\"BING_CONNECTION_NAME: {os.getenv('BING_CONNECTION_NAME')}\")  "
   ]
  },
  {
   "cell_type": "markdown",
   "metadata": {},
   "source": [
    "Get the project reference using the current authenticated user and the connection string to the project where the agents will be created. "
   ]
  },
  {
   "cell_type": "code",
   "execution_count": 2,
   "metadata": {},
   "outputs": [],
   "source": [
    "project = AIProjectClient.from_connection_string(\n",
    "    credential=DefaultAzureCredential(),\n",
    "    conn_str=os.environ[\"PROJECT_CONNECTION_STRING\"],\n",
    ")"
   ]
  },
  {
   "cell_type": "markdown",
   "metadata": {},
   "source": [
    "## Let the agent write and execute Python code.\n",
    "\n",
    "One of the built-in tools is the CodeInterpreter. This tool will allow the agent to write and execute Python code in a sandbox environment.\n",
    "\n",
    "Let's instantiate the [CodeInterpreteTool](https://learn.microsoft.com/en-us/azure/ai-services/agents/how-to/tools/code-interpreter?tabs=python&pivots=overview) class and create an agent."
   ]
  },
  {
   "cell_type": "code",
   "execution_count": null,
   "metadata": {},
   "outputs": [],
   "source": [
    "# Create a code interpreter tool instance.\n",
    "code_interpreter = CodeInterpreterTool()\n",
    "\n",
    "statistics_agent = project.agents.create_agent(\n",
    "    model=\"gpt-4o-mini\",\n",
    "    name=\"Statistics Expert\",\n",
    "    instructions=\"You are an expert on statistics, providing statistics help for users.\",\n",
    "    description=\"This agent was created to provide guidance for our users.\",\n",
    "    metadata= {\n",
    "        \"department\": \"finance\",\n",
    "        \"owner\": \"jim\"\n",
    "    },\n",
    "    \n",
    "    # This is where assign the code interpreter to this agent.\n",
    "    tools=code_interpreter.definitions,\n",
    "    tool_resources=code_interpreter.resources\n",
    ")\n",
    "pprint(statistics_agent)"
   ]
  },
  {
   "cell_type": "markdown",
   "metadata": {},
   "source": [
    "Let's create a thread to add the messages."
   ]
  },
  {
   "cell_type": "code",
   "execution_count": null,
   "metadata": {},
   "outputs": [],
   "source": [
    "thread_bill = project.agents.create_thread(\n",
    "    metadata= {\n",
    "        \"entraUserId\": \"444dfd30-8420-4a8d-b155-4b5f05994545\"\n",
    "    }\n",
    ")\n",
    "pprint(thread_bill)"
   ]
  },
  {
   "cell_type": "markdown",
   "metadata": {},
   "source": [
    "Now that we have a thread, let's add a message."
   ]
  },
  {
   "cell_type": "code",
   "execution_count": null,
   "metadata": {},
   "outputs": [],
   "source": [
    "message = project.agents.create_message(\n",
    "    thread_id=thread_bill.id,\n",
    "    role=\"user\",\n",
    "    content=\"Create a bar chart for the operating profit using the following data and provide the file to me? Company A: $1.2 million, Company B: $2.5 million, Company C: $3.0 million, Company D: $1.8 million\",\n",
    ")\n",
    "pprint(message)"
   ]
  },
  {
   "cell_type": "markdown",
   "metadata": {},
   "source": [
    "List all messages in the thread."
   ]
  },
  {
   "cell_type": "code",
   "execution_count": null,
   "metadata": {},
   "outputs": [],
   "source": [
    "pprint(project.agents.list_messages(thread_bill.id))"
   ]
  },
  {
   "cell_type": "markdown",
   "metadata": {},
   "source": [
    "Now it's time to let the agent write and run some code!"
   ]
  },
  {
   "cell_type": "code",
   "execution_count": null,
   "metadata": {},
   "outputs": [],
   "source": [
    "pprint(project.agents.create_and_process_run(thread_id=thread_bill.id, assistant_id=statistics_agent.id))"
   ]
  },
  {
   "cell_type": "markdown",
   "metadata": {},
   "source": [
    "Let's show the message created by the code interpreter in the thread."
   ]
  },
  {
   "cell_type": "code",
   "execution_count": null,
   "metadata": {},
   "outputs": [],
   "source": [
    "pprint(project.agents.list_messages(thread_bill.id))"
   ]
  },
  {
   "cell_type": "markdown",
   "metadata": {},
   "source": [
    "## Using a custom function"
   ]
  },
  {
   "cell_type": "markdown",
   "metadata": {},
   "source": [
    "It's possible to define a function in Python and let the agent use it using a feature called **function calling**.\n",
    "\n",
    "The function below uses mock data to return weather predictions. Once called, it will return the weather in the location specified.\n",
    "\n",
    "In order to extract the location from the user question the model will be used, and will return to our application the name and parameters of the function to be executed.\n",
    "Once the function is executed our application will return to the agent the result to finish the execution of the user question and provide the final answer."
   ]
  },
  {
   "cell_type": "code",
   "execution_count": 9,
   "metadata": {},
   "outputs": [],
   "source": [
    "import json\n",
    "from typing import Any, Callable, Set\n",
    "\n",
    "def fetch_weather(location: str) -> str:\n",
    "    \"\"\"\n",
    "    Fetches the weather information for the specified location.\n",
    "\n",
    "    :param location (str): The location to fetch weather for.\n",
    "    :return: Weather information as a JSON string.\n",
    "    :rtype: str\n",
    "    \"\"\"\n",
    "\n",
    "    # In a real-world scenario, you'd integrate with a weather API.\n",
    "    # Here, we'll mock the response.\n",
    "    mock_weather_data = {\n",
    "        \"New York\": \"Sunny, 25°C\",\n",
    "        \"London\": \"Cloudy, 18°C\", \n",
    "        \"Tokyo\": \"Rainy, 22°C\"\n",
    "    }\n",
    "    \n",
    "    weather = mock_weather_data.get(location, \"Weather data not available for this location.\")\n",
    "    \n",
    "    weather_json = json.dumps({\"weather\": weather})\n",
    "    return weather_json\n",
    "\n",
    "user_functions: Set[Callable[..., Any]] = {\n",
    "    fetch_weather,\n",
    "}\n",
    "\n",
    "functions = FunctionTool(user_functions)\n",
    "toolset = ToolSet()\n",
    "toolset.add(functions)"
   ]
  },
  {
   "cell_type": "markdown",
   "metadata": {},
   "source": [
    "Now we will create an agent to help users query about the weather. We will also add the  custom tool we implemented in Python."
   ]
  },
  {
   "cell_type": "code",
   "execution_count": null,
   "metadata": {},
   "outputs": [],
   "source": [
    "weather_agent = project.agents.create_agent(\n",
    "    model=\"gpt-4o-mini\",\n",
    "    name=\"Weather Expert\",\n",
    "    instructions=\"You are an expert on weather, providing predictions to users.\",\n",
    "    \n",
    "    # Assign our custom function to the agent.\n",
    "    toolset=toolset\n",
    ")\n",
    "pprint(weather_agent)"
   ]
  },
  {
   "cell_type": "markdown",
   "metadata": {},
   "source": [
    "Let's a create a thread and a message."
   ]
  },
  {
   "cell_type": "code",
   "execution_count": null,
   "metadata": {},
   "outputs": [],
   "source": [
    "thread_john = project.agents.create_thread()\n",
    "\n",
    "message_john = project.agents.create_message(\n",
    "    thread_id=thread_john.id,\n",
    "    role=\"user\",\n",
    "    content=\"Hello, what is the  weather information in New York?\",\n",
    ")\n",
    "pprint(project.agents.list_messages(thread_john.id))"
   ]
  },
  {
   "cell_type": "markdown",
   "metadata": {},
   "source": [
    "Execute the agent."
   ]
  },
  {
   "cell_type": "code",
   "execution_count": null,
   "metadata": {},
   "outputs": [],
   "source": [
    "run = project.agents.create_and_process_run(thread_id=thread_john.id, assistant_id=weather_agent.id)\n",
    "pprint(run)"
   ]
  },
  {
   "cell_type": "markdown",
   "metadata": {},
   "source": [
    "Let's see what our weather agent did. In this case, as we provided a custom function, the SDK automatically called it with the right parameters and our custom Python function was called.\n",
    "\n",
    "As you can see the agent created the correct answer based in the mock data, where the weather in New York is sunny, 25°C."
   ]
  },
  {
   "cell_type": "code",
   "execution_count": null,
   "metadata": {},
   "outputs": [],
   "source": [
    "pprint(project.agents.list_messages(thread_john.id))"
   ]
  },
  {
   "cell_type": "markdown",
   "metadata": {},
   "source": [
    "## Using OpenAPI to call functions"
   ]
  },
  {
   "cell_type": "markdown",
   "metadata": {},
   "source": [
    "Another way to provide functions to an agent is using the [OpenAPI](https://swagger.io/specification/) specification.\n",
    "\n",
    "Let's see how it works. First we need to load the specification file, and a create an OpenAPI tool from it. Here we are reading the specification from a file, but it could be an URL.\n"
   ]
  },
  {
   "cell_type": "code",
   "execution_count": 20,
   "metadata": {},
   "outputs": [],
   "source": [
    "with open('./order-api.json', 'r') as f:\n",
    "    order_api_spec = jsonref.loads(f.read())\n",
    "\n",
    "# Create Auth object for the OpenApiTool (note that connection or managed identity auth setup requires additional setup in Azure)\n",
    "auth = OpenApiAnonymousAuthDetails()\n",
    "\n",
    "# Initialize agent OpenApi tool using the read in OpenAPI spec\n",
    "openapi = OpenApiTool(\n",
    "    name=\"order_api\", \n",
    "    spec=order_api_spec,\n",
    "    description=\"Order API used to get and create orders.\", \n",
    "    auth=auth\n",
    ")"
   ]
  },
  {
   "cell_type": "markdown",
   "metadata": {},
   "source": [
    "An OpenAPI specification might have hundreds of operations where each operation might get, create, update or delete data, or trigger actions.\n",
    "\n",
    "In order to use the operations they need to be very well documented using natural language, because that's what the model of the agent will see, and will use to evaluate what functions it need to execute in order to generate an answer.\n",
    "\n",
    "Let's print the OpenAPI specification we read."
   ]
  },
  {
   "cell_type": "code",
   "execution_count": null,
   "metadata": {},
   "outputs": [],
   "source": [
    "openapi.definitions"
   ]
  },
  {
   "cell_type": "markdown",
   "metadata": {},
   "source": [
    "Now that we loaded the OpenAPI spec, let's create an agent pointing to it."
   ]
  },
  {
   "cell_type": "code",
   "execution_count": null,
   "metadata": {},
   "outputs": [],
   "source": [
    "order_agent = project.agents.create_agent(\n",
    "    model=\"gpt-4o-mini\",\n",
    "    name=\"Order Assistant\",\n",
    "    instructions=\"You know everything about orders.\",\n",
    "    \n",
    "    # This is where we assign the OpenAPI tool to the agent.\n",
    "    tools=openapi.definitions\n",
    ")\n",
    "pprint(order_agent)"
   ]
  },
  {
   "cell_type": "markdown",
   "metadata": {},
   "source": [
    "The same way we did previously, now we need a thread with a message to execute the agent. The code below will create a thread with a single message and execute it. It's execution will make an API call to the API we loaded previously. In this case it will call the _/orders/123_ endpoint to get detailed information about this order.\n",
    "\n",
    "If you want to take a look in the source code behind the API you can find it in the file **order-api-azure-function.py**, which is a shared Azure Function that was deployed for this workshop."
   ]
  },
  {
   "cell_type": "code",
   "execution_count": null,
   "metadata": {},
   "outputs": [],
   "source": [
    "thread_alice = project.agents.create_thread()\n",
    "\n",
    "message_alice = project.agents.create_message(\n",
    "    thread_id=thread_alice.id,\n",
    "    role=\"user\",\n",
    "    content=\"What is the price of order number 123?\",\n",
    ")\n",
    "\n",
    "run = project.agents.create_and_process_run(\n",
    "    thread_id=thread_alice.id, \n",
    "    assistant_id=order_agent.id\n",
    ")\n",
    "\n",
    "pprint(project.agents.list_messages(thread_alice.id))"
   ]
  },
  {
   "cell_type": "markdown",
   "metadata": {},
   "source": [
    "During this lab we showed that it's possible to give tools to agents, and they can use these tools to execute actions. This way we are giving more power to agents, and they cannot only reason, but they can actively act to accomplish a goal.\n",
    "\n",
    "In addition to the code interpreter, custom function and OpenAPI tool we also have a tool that allow **Azure Functions** to be used. You can find more information [here](https://learn.microsoft.com/en-us/azure/ai-services/agents/how-to/tools/azure-functions?pivots=overview).\n",
    "\n",
    "You have reached the end of this lab. 👏"
   ]
  }
 ],
 "metadata": {
  "language_info": {
   "name": "python"
  }
 },
 "nbformat": 4,
 "nbformat_minor": 2
}
