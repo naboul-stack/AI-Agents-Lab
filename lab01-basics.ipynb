{
 "cells": [
  {
   "cell_type": "markdown",
   "metadata": {},
   "source": [
    "# Basics\n",
    "\n",
    "There are two ways to create agents 🤖:\n",
    "\n",
    "1. Using the Azure AI Agent Service SDK. **This is the recommended approach**.\n",
    "2. Using the OpenAI SDK. In this case they are not called agents, but assistants.\n",
    "\n",
    "The code below will import some Python classes and functions, will read the .env file, and get ready the environment.\n",
    "In addition it will define the function pprint, which will be used in this workshop to improve the readability of the objects created."
   ]
  },
  {
   "cell_type": "code",
   "execution_count": null,
   "metadata": {},
   "outputs": [],
   "source": [
    "import os\n",
    "from pprint import pp as pp\n",
    "\n",
    "from dotenv import load_dotenv\n",
    "from azure.ai.projects import AIProjectClient\n",
    "from azure.identity import DefaultAzureCredential\n",
    "\n",
    "# Load environment variables from .env file\n",
    "load_dotenv(override=True)\n",
    "\n",
    "def pprint(obj):\n",
    "    pp(obj.as_dict() if hasattr(obj, \"as_dict\") else obj, width=100)\n",
    "\n",
    "# Print the environments we will be using.\n",
    "print(f\"PROJECT_CONNECTION_STRING: {os.getenv('PROJECT_CONNECTION_STRING')}\")\n",
    "print(f\"BING_CONNECTION_NAME: {os.getenv('BING_CONNECTION_NAME')}\")  "
   ]
  },
  {
   "cell_type": "markdown",
   "metadata": {},
   "source": [
    "Get the project reference using the current authenticated user and the connection string to the project where the agents will be created. "
   ]
  },
  {
   "cell_type": "code",
   "execution_count": 2,
   "metadata": {},
   "outputs": [],
   "source": [
    "project = AIProjectClient.from_connection_string(\n",
    "    credential=DefaultAzureCredential(),\n",
    "    conn_str=os.environ[\"PROJECT_CONNECTION_STRING\"],\n",
    ")"
   ]
  },
  {
   "cell_type": "markdown",
   "metadata": {},
   "source": [
    "## Creating Agents using Agent Service SDK\n",
    "\n",
    "Now that we are connected to the project, let's create a very simple agent using **GPT-4o-mini** model as the agent _\"brain\"_. We are also providing instructions on how the agent should behave, adding a description and custom metadata fields. These metadata fields can be used to add custom information to find agents later for scenario with several agents."
   ]
  },
  {
   "cell_type": "code",
   "execution_count": null,
   "metadata": {},
   "outputs": [],
   "source": [
    "portfolio_agent = project.agents.create_agent(\n",
    "    model=\"gpt-4o-mini\",\n",
    "    name=\"Portfolio Guidance\",\n",
    "    instructions=\"You are a financial agent, providing portfolio guidance for users.\",\n",
    "    description=\"This agent was created to provide guidance for our users.\",\n",
    "    metadata= {\n",
    "        \"department\": \"finance\",\n",
    "        \"owner\": \"jdoe\"\n",
    "    }\n",
    ")\n",
    "pprint(portfolio_agent)"
   ]
  },
  {
   "cell_type": "markdown",
   "metadata": {},
   "source": [
    "Every agent is unique and has an id, which starts with the string _asst_. This id and can be used to retrieve the agent later.\n",
    "\n",
    "Let's create a second agent, but now for the marketing team."
   ]
  },
  {
   "cell_type": "code",
   "execution_count": null,
   "metadata": {},
   "outputs": [],
   "source": [
    "branding_agent = project.agents.create_agent(\n",
    "    model=\"gpt-4o-mini\",\n",
    "    name=\"Branding Guidance\",\n",
    "    instructions=\"You are a marketing agent, providing guidance about the correct way to use our branding. Make sure to warn users that our logo must be at the same size as the other company logos.\",\n",
    "    description=\"This agent was created to provide guidance for our users.\",\n",
    "    metadata={\n",
    "        \"department\": \"finance\",\n",
    "        \"owner\": \"jdoe\"\n",
    "    }\n",
    ")\n",
    "pprint(branding_agent)"
   ]
  },
  {
   "cell_type": "markdown",
   "metadata": {},
   "source": [
    "Using the project object it is possible to list all agents in the project, delete an agent or update an agent.\n",
    "\n",
    "Right now we should have two agents created in the project."
   ]
  },
  {
   "cell_type": "code",
   "execution_count": null,
   "metadata": {},
   "outputs": [],
   "source": [
    "pprint(project.agents.list_agents())"
   ]
  },
  {
   "cell_type": "markdown",
   "metadata": {},
   "source": [
    "Let's improve the instructions we provided for the portfolio agent."
   ]
  },
  {
   "cell_type": "code",
   "execution_count": null,
   "metadata": {},
   "outputs": [],
   "source": [
    "portfolio_agent = project.agents.update_agent(portfolio_agent.id, instructions=\"You are a financial agent, providing portfolio guidance for users. Avoid using too technical terms, and be clear about the risks.\")\n",
    "pprint(portfolio_agent)"
   ]
  },
  {
   "cell_type": "markdown",
   "metadata": {},
   "source": [
    "### Chatting with the Agent\n",
    "\n",
    "In order to chat with an agent, we need to create a **thread**. A thread is a **container** for messages, and there are two types of messages: messages created by the user or created by an agent.\n",
    "\n",
    "**Important!**\n",
    "1. If you don't save the thread id, you won't be able to recover the thread later. Keep this in mind, and save it to another database.\n",
    "2. A thread is not tied to an agent. **The same thread can be used by several agents**.\n",
    "3. Unless deleted manually, threads are kept forever.\n",
    "\n",
    "Jane wants to get information on how to invest her money, so let's create a thread for Jane.\n",
    "You can also add metadata for threads, and in this case we are adding the user id from Microsoft Entra."
   ]
  },
  {
   "cell_type": "code",
   "execution_count": null,
   "metadata": {},
   "outputs": [],
   "source": [
    "thread_jane = project.agents.create_thread(\n",
    "    metadata= {\n",
    "        \"entraUserId\": \"a1ddfd30-8420-4a8d-b155-4b5f05998d69\"\n",
    "    }\n",
    ")\n",
    "pprint(thread_jane)"
   ]
  },
  {
   "cell_type": "markdown",
   "metadata": {},
   "source": [
    "Let's add a message to the thread we created."
   ]
  },
  {
   "cell_type": "code",
   "execution_count": null,
   "metadata": {},
   "outputs": [],
   "source": [
    "message = project.agents.create_message(\n",
    "    thread_id=thread_jane.id,\n",
    "    role=\"user\",\n",
    "    content=\"What is the best option to invest my money?\",\n",
    ")\n",
    "pprint(message)"
   ]
  },
  {
   "cell_type": "markdown",
   "metadata": {},
   "source": [
    "Let's print all messages in the thread."
   ]
  },
  {
   "cell_type": "code",
   "execution_count": null,
   "metadata": {},
   "outputs": [],
   "source": [
    "pprint(project.agents.list_messages(thread_jane.id))"
   ]
  },
  {
   "cell_type": "markdown",
   "metadata": {},
   "source": [
    "At this point, we created a thread containing only one message. As you can see, the thread or message are not linked to any assistant. You can validate that looking the **run_id** and **assistant_id** properties for messages where the role is **user**.\n",
    "\n",
    "Now, it's time to ask the agent to reason over the message the user sent and generate a reply. This is represented by a run object. \n",
    "\n",
    "The execution of the agent is **asynchronous** and we need to poll if its execution was completed. The function **create_and_process_run** abstracts all this process."
   ]
  },
  {
   "cell_type": "code",
   "execution_count": null,
   "metadata": {},
   "outputs": [],
   "source": [
    "pprint(project.agents.create_and_process_run(thread_id=thread_jane.id, assistant_id=portfolio_agent.id)) "
   ]
  },
  {
   "cell_type": "markdown",
   "metadata": {},
   "source": [
    "Now, let's list the message that was created and added to the thread. You will see that the agent added a new message to the list."
   ]
  },
  {
   "cell_type": "code",
   "execution_count": null,
   "metadata": {},
   "outputs": [],
   "source": [
    "pprint(project.agents.list_messages(thread_jane.id))"
   ]
  },
  {
   "cell_type": "markdown",
   "metadata": {},
   "source": [
    "## Creating Agents using OpenAI SDK\n",
    "\n",
    "Another way of creating agents is using OpenAI SDK. In this case, they are called **assistants**. \n",
    "\n",
    "To create one, we need an Azure OpenAI deployment reference, which can be acquired using the following code."
   ]
  },
  {
   "cell_type": "code",
   "execution_count": 12,
   "metadata": {},
   "outputs": [],
   "source": [
    "openai_client = project.inference.get_azure_openai_client(\n",
    "    api_version=os.environ.get(\"AZURE_OPENAI_API_VERSION\"),\n",
    ")"
   ]
  },
  {
   "cell_type": "markdown",
   "metadata": {},
   "source": [
    "Now, let's create an assistant to help users about branding questions using this client."
   ]
  },
  {
   "cell_type": "code",
   "execution_count": null,
   "metadata": {},
   "outputs": [],
   "source": [
    "branding_agent = openai_client.beta.assistants.create(\n",
    "    model=\"gpt-4o-mini\",\n",
    "    name=\"Branding Guidance\",\n",
    "    instructions=\"You are a marketing agent, providing guidance about the correct way to use our branding. Make sure to warn users that our logo must be at the same size as the other company logos.\"\n",
    ")\n",
    "pprint(branding_agent)"
   ]
  },
  {
   "cell_type": "markdown",
   "metadata": {},
   "source": [
    "The same way we did using Agent Service SDK, we can use the OpenAI SDK to list, update or delete assistants."
   ]
  },
  {
   "cell_type": "code",
   "execution_count": null,
   "metadata": {},
   "outputs": [],
   "source": [
    "pprint(openai_client.beta.assistants.list())"
   ]
  },
  {
   "cell_type": "markdown",
   "metadata": {},
   "source": [
    "Maria has some questions about how the company logo can be used. We will create using a single call a thread with a list of messages. Previously we created this in two differente calls."
   ]
  },
  {
   "cell_type": "code",
   "execution_count": null,
   "metadata": {},
   "outputs": [],
   "source": [
    "thread_maria = openai_client.beta.threads.create(\n",
    "    messages= [\n",
    "        {\n",
    "            \"role\": \"user\",\n",
    "            \"content\": \"I need to add the company logo side by side with another company logo. Is there any guidance about it?\",         \n",
    "        }\n",
    "    ]\n",
    ")\n",
    "pprint(thread_maria)"
   ]
  },
  {
   "cell_type": "markdown",
   "metadata": {},
   "source": [
    "Execute the assistant over the thread."
   ]
  },
  {
   "cell_type": "code",
   "execution_count": null,
   "metadata": {},
   "outputs": [],
   "source": [
    "run = openai_client.beta.threads.runs.create(\n",
    "    thread_id=thread_maria.id,\n",
    "    assistant_id=branding_agent.id,\n",
    ")\n",
    "pprint(run)"
   ]
  },
  {
   "cell_type": "markdown",
   "metadata": {},
   "source": [
    "Print the message created by the assistant."
   ]
  },
  {
   "cell_type": "code",
   "execution_count": null,
   "metadata": {},
   "outputs": [],
   "source": [
    "pprint(openai_client.beta.threads.messages.list(thread_id=thread_maria.id))"
   ]
  },
  {
   "cell_type": "markdown",
   "metadata": {},
   "source": [
    "As you can see using Agent Service SDK or OpenAI SDK the experience today is almost the same, however the recomendation is to use the Agent Service SDK.\n",
    "\n",
    "\n",
    "You have reached the end of this lab. 👏"
   ]
  }
 ],
 "metadata": {
  "kernelspec": {
   "display_name": "Python 3",
   "language": "python",
   "name": "python3"
  },
  "language_info": {
   "codemirror_mode": {
    "name": "ipython",
    "version": 3
   },
   "file_extension": ".py",
   "mimetype": "text/x-python",
   "name": "python",
   "nbconvert_exporter": "python",
   "pygments_lexer": "ipython3",
   "version": "3.12.1"
  }
 },
 "nbformat": 4,
 "nbformat_minor": 2
}
