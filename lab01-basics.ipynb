{
 "cells": [
  {
   "cell_type": "markdown",
   "metadata": {},
   "source": [
    "# Basics\n",
    "\n",
    "There are two ways to create agents 🤖:\n",
    "\n",
    "1. Using the Azure AI Agent Service SDK. **This is the recommended approach**.\n",
    "2. Using the OpenAI SDK. In this case they are not called agents, but assistants.\n",
    "\n",
    "The code below will import some Python classes and functions, will read the .env file, and get ready the environment.\n",
    "In addition it will define the function pprint, which will be used in this workshop to improve the readability of the objects created."
   ]
  },
  {
   "cell_type": "code",
   "execution_count": 18,
   "metadata": {},
   "outputs": [
    {
     "name": "stdout",
     "output_type": "stream",
     "text": [
      "PROJECT_CONNECTION_STRING: 576a663a-07b7-4dd2-82d5-1347867b172a.workspace.eastus.api.azureml.ms;698d9beb-2466-404e-ae80-79d2faa013b1;nbm-eastus-rg;nbm-eastus-ai1\n",
      "BING_CONNECTION_NAME: bing_grounding\n"
     ]
    }
   ],
   "source": [
    "import os\n",
    "from pprint import pp as pp\n",
    "\n",
    "from dotenv import load_dotenv\n",
    "from azure.ai.projects import AIProjectClient\n",
    "from azure.identity import DefaultAzureCredential\n",
    "\n",
    "# Load environment variables from .env file\n",
    "load_dotenv(override=True)\n",
    "\n",
    "def pprint(obj):\n",
    "    pp(obj.as_dict() if hasattr(obj, \"as_dict\") else obj, width=100)\n",
    "\n",
    "# Print the environments we will be using.\n",
    "print(f\"PROJECT_CONNECTION_STRING: {os.getenv('PROJECT_CONNECTION_STRING')}\")\n",
    "print(f\"BING_CONNECTION_NAME: {os.getenv('BING_CONNECTION_NAME')}\")  "
   ]
  },
  {
   "cell_type": "markdown",
   "metadata": {},
   "source": [
    "Get the project reference using the current authenticated user and the connection string to the project where the agents will be created. "
   ]
  },
  {
   "cell_type": "code",
   "execution_count": 17,
   "metadata": {},
   "outputs": [],
   "source": [
    "project = AIProjectClient.from_connection_string(\n",
    "    credential=DefaultAzureCredential(),\n",
    "    conn_str=os.environ[\"PROJECT_CONNECTION_STRING\"],\n",
    ")"
   ]
  },
  {
   "cell_type": "markdown",
   "metadata": {},
   "source": [
    "## Creating Agents using Agent Service SDK\n",
    "\n",
    "Now that we are connected to the project, let's create a very simple agent using **GPT-4o-mini** model as the agent _\"brain\"_. We are also providing instructions on how the agent should behave, adding a description and custom metadata fields. These metadata fields can be used to add custom information to find agents later for scenario with several agents."
   ]
  },
  {
   "cell_type": "code",
   "execution_count": 29,
   "metadata": {},
   "outputs": [
    {
     "name": "stdout",
     "output_type": "stream",
     "text": [
      "{'id': 'asst_lHmmRLrLOJ051eikWpVYqVYD',\n",
      " 'object': 'assistant',\n",
      " 'created_at': 1739807752,\n",
      " 'name': 'Portfolio Guidance',\n",
      " 'description': 'This agent was created to provide guidance for our users.',\n",
      " 'model': 'gpt-4o-mini',\n",
      " 'instructions': 'You are a financial agent, providing portfolio guidance for users.',\n",
      " 'tools': [],\n",
      " 'top_p': 1.0,\n",
      " 'temperature': 1.0,\n",
      " 'tool_resources': {},\n",
      " 'metadata': {'department': 'finance', 'owner': 'jdoe'},\n",
      " 'response_format': 'auto'}\n"
     ]
    }
   ],
   "source": [
    "portfolio_agent = project.agents.create_agent(\n",
    "    model=\"gpt-4o-mini\",\n",
    "    name=\"Portfolio Guidance\",\n",
    "    instructions=\"You are a financial agent, providing portfolio guidance for users.\",\n",
    "    description=\"This agent was created to provide guidance for our users.\",\n",
    "    metadata= {\n",
    "        \"department\": \"finance\",\n",
    "        \"owner\": \"jdoe\"\n",
    "    }\n",
    ")\n",
    "pprint(portfolio_agent)"
   ]
  },
  {
   "cell_type": "markdown",
   "metadata": {},
   "source": [
    "Every agent is unique and has an id, which starts with the string _asst_. This id and can be used to retrieve the agent later.\n",
    "\n",
    "Let's create a second agent, but now for the marketing team."
   ]
  },
  {
   "cell_type": "code",
   "execution_count": 30,
   "metadata": {},
   "outputs": [
    {
     "name": "stdout",
     "output_type": "stream",
     "text": [
      "{'id': 'asst_lRObC2JvpO2eCHwX9DmbvWUK',\n",
      " 'object': 'assistant',\n",
      " 'created_at': 1739807756,\n",
      " 'name': 'Branding Guidance',\n",
      " 'description': 'This agent was created to provide guidance for our users.',\n",
      " 'model': 'gpt-4o-mini',\n",
      " 'instructions': 'You are a marketing agent, providing guidance about the correct way to use our '\n",
      "                 'branding. Make sure to warn users that our logo must be at the same size as the '\n",
      "                 'other company logos.',\n",
      " 'tools': [],\n",
      " 'top_p': 1.0,\n",
      " 'temperature': 1.0,\n",
      " 'tool_resources': {},\n",
      " 'metadata': {'department': 'finance', 'owner': 'jdoe'},\n",
      " 'response_format': 'auto'}\n"
     ]
    }
   ],
   "source": [
    "branding_agent = project.agents.create_agent(\n",
    "    model=\"gpt-4o-mini\",\n",
    "    name=\"Branding Guidance\",\n",
    "    instructions=\"You are a marketing agent, providing guidance about the correct way to use our branding. Make sure to warn users that our logo must be at the same size as the other company logos.\",\n",
    "    description=\"This agent was created to provide guidance for our users.\",\n",
    "    metadata={\n",
    "        \"department\": \"finance\",\n",
    "        \"owner\": \"jdoe\"\n",
    "    }\n",
    ")\n",
    "pprint(branding_agent)"
   ]
  },
  {
   "cell_type": "markdown",
   "metadata": {},
   "source": [
    "Using the project object it is possible to list all agents in the project, delete an agent or update an agent.\n",
    "\n",
    "Right now we should have two agents created in the project."
   ]
  },
  {
   "cell_type": "code",
   "execution_count": 31,
   "metadata": {},
   "outputs": [
    {
     "name": "stdout",
     "output_type": "stream",
     "text": [
      "{'object': 'list',\n",
      " 'data': [{'id': 'asst_lRObC2JvpO2eCHwX9DmbvWUK',\n",
      "           'object': 'assistant',\n",
      "           'created_at': 1739807756,\n",
      "           'name': 'Branding Guidance',\n",
      "           'description': 'This agent was created to provide guidance for our users.',\n",
      "           'model': 'gpt-4o-mini',\n",
      "           'instructions': 'You are a marketing agent, providing guidance about the correct way to '\n",
      "                           'use our branding. Make sure to warn users that our logo must be at the '\n",
      "                           'same size as the other company logos.',\n",
      "           'tools': [],\n",
      "           'top_p': 1.0,\n",
      "           'temperature': 1.0,\n",
      "           'tool_resources': {},\n",
      "           'metadata': {'department': 'finance', 'owner': 'jdoe'},\n",
      "           'response_format': 'auto'},\n",
      "          {'id': 'asst_lHmmRLrLOJ051eikWpVYqVYD',\n",
      "           'object': 'assistant',\n",
      "           'created_at': 1739807752,\n",
      "           'name': 'Portfolio Guidance',\n",
      "           'description': 'This agent was created to provide guidance for our users.',\n",
      "           'model': 'gpt-4o-mini',\n",
      "           'instructions': 'You are a financial agent, providing portfolio guidance for users.',\n",
      "           'tools': [],\n",
      "           'top_p': 1.0,\n",
      "           'temperature': 1.0,\n",
      "           'tool_resources': {},\n",
      "           'metadata': {'department': 'finance', 'owner': 'jdoe'},\n",
      "           'response_format': 'auto'}],\n",
      " 'first_id': 'asst_lRObC2JvpO2eCHwX9DmbvWUK',\n",
      " 'last_id': 'asst_lHmmRLrLOJ051eikWpVYqVYD',\n",
      " 'has_more': False}\n"
     ]
    }
   ],
   "source": [
    "pprint(project.agents.list_agents())"
   ]
  },
  {
   "cell_type": "markdown",
   "metadata": {},
   "source": [
    "Let's improve the instructions we provided for the portfolio agent."
   ]
  },
  {
   "cell_type": "code",
   "execution_count": 32,
   "metadata": {},
   "outputs": [
    {
     "name": "stdout",
     "output_type": "stream",
     "text": [
      "{'id': 'asst_lHmmRLrLOJ051eikWpVYqVYD',\n",
      " 'object': 'assistant',\n",
      " 'created_at': 1739807752,\n",
      " 'name': 'Portfolio Guidance',\n",
      " 'description': 'This agent was created to provide guidance for our users.',\n",
      " 'model': 'gpt-4o-mini',\n",
      " 'instructions': 'You are a financial agent, providing portfolio guidance for users. Avoid using '\n",
      "                 'too technical terms, and be clear about the risks.',\n",
      " 'tools': [],\n",
      " 'top_p': 1.0,\n",
      " 'temperature': 1.0,\n",
      " 'tool_resources': {},\n",
      " 'metadata': {'department': 'finance', 'owner': 'jdoe'},\n",
      " 'response_format': 'auto'}\n"
     ]
    }
   ],
   "source": [
    "portfolio_agent = project.agents.update_agent(portfolio_agent.id, instructions=\"You are a financial agent, providing portfolio guidance for users. Avoid using too technical terms, and be clear about the risks.\")\n",
    "pprint(portfolio_agent)"
   ]
  },
  {
   "cell_type": "markdown",
   "metadata": {},
   "source": [
    "### Chatting with the Agent\n",
    "\n",
    "In order to chat with an agent, we need to create a **thread**. A thread is a **container** for messages, and there are two types of messages: messages created by the user or created by an agent.\n",
    "\n",
    "**Important!**\n",
    "1. If you don't save the thread id, you won't be able to recover the thread later. Keep this in mind, and save it to another database.\n",
    "2. A thread is not tied to an agent. **The same thread can be used by several agents**.\n",
    "3. Unless deleted manually, threads are kept forever.\n",
    "\n",
    "Jane wants to get information on how to invest her money, so let's create a thread for Jane.\n",
    "You can also add metadata for threads, and in this case we are adding the user id from Microsoft Entra."
   ]
  },
  {
   "cell_type": "code",
   "execution_count": 33,
   "metadata": {},
   "outputs": [
    {
     "name": "stdout",
     "output_type": "stream",
     "text": [
      "{'id': 'thread_HPbFaNTL2BhOsh4i2Om5aNrx',\n",
      " 'object': 'thread',\n",
      " 'created_at': 1739807794,\n",
      " 'metadata': {'entraUserId': 'a1ddfd30-8420-4a8d-b155-4b5f05998d69'},\n",
      " 'tool_resources': {}}\n"
     ]
    }
   ],
   "source": [
    "thread_jane = project.agents.create_thread(\n",
    "    metadata= {\n",
    "        \"entraUserId\": \"a1ddfd30-8420-4a8d-b155-4b5f05998d69\"\n",
    "    }\n",
    ")\n",
    "pprint(thread_jane)"
   ]
  },
  {
   "cell_type": "markdown",
   "metadata": {},
   "source": [
    "Let's add a message to the thread we created."
   ]
  },
  {
   "cell_type": "code",
   "execution_count": 34,
   "metadata": {},
   "outputs": [
    {
     "name": "stdout",
     "output_type": "stream",
     "text": [
      "{'id': 'msg_rWipqqjGKxy861tKkP38siZ6',\n",
      " 'object': 'thread.message',\n",
      " 'created_at': 1739807800,\n",
      " 'assistant_id': None,\n",
      " 'thread_id': 'thread_HPbFaNTL2BhOsh4i2Om5aNrx',\n",
      " 'run_id': None,\n",
      " 'role': 'user',\n",
      " 'content': [{'type': 'text',\n",
      "              'text': {'value': 'What is the best option to invest my money?', 'annotations': []}}],\n",
      " 'attachments': [],\n",
      " 'metadata': {}}\n"
     ]
    }
   ],
   "source": [
    "message = project.agents.create_message(\n",
    "    thread_id=thread_jane.id,\n",
    "    role=\"user\",\n",
    "    content=\"What is the best option to invest my money?\",\n",
    ")\n",
    "pprint(message)"
   ]
  },
  {
   "cell_type": "markdown",
   "metadata": {},
   "source": [
    "Let's print all messages in the thread."
   ]
  },
  {
   "cell_type": "code",
   "execution_count": 35,
   "metadata": {},
   "outputs": [
    {
     "name": "stdout",
     "output_type": "stream",
     "text": [
      "{'object': 'list',\n",
      " 'data': [{'id': 'msg_rWipqqjGKxy861tKkP38siZ6',\n",
      "           'object': 'thread.message',\n",
      "           'created_at': 1739807800,\n",
      "           'assistant_id': None,\n",
      "           'thread_id': 'thread_HPbFaNTL2BhOsh4i2Om5aNrx',\n",
      "           'run_id': None,\n",
      "           'role': 'user',\n",
      "           'content': [{'type': 'text',\n",
      "                        'text': {'value': 'What is the best option to invest my money?',\n",
      "                                 'annotations': []}}],\n",
      "           'attachments': [],\n",
      "           'metadata': {}}],\n",
      " 'first_id': 'msg_rWipqqjGKxy861tKkP38siZ6',\n",
      " 'last_id': 'msg_rWipqqjGKxy861tKkP38siZ6',\n",
      " 'has_more': False}\n"
     ]
    }
   ],
   "source": [
    "pprint(project.agents.list_messages(thread_jane.id))"
   ]
  },
  {
   "cell_type": "markdown",
   "metadata": {},
   "source": [
    "At this point, we created a thread containing only one message. As you can see, the thread or message are not linked to any assistant. You can validate that looking the **run_id** and **assistant_id** properties for messages where the role is **user**.\n",
    "\n",
    "Now, it's time to ask the agent to reason over the message the user sent and generate a reply. This is represented by a run object. \n",
    "\n",
    "The execution of the agent is **asynchronous** and we need to poll if its execution was completed. The function **create_and_process_run** abstracts all this process."
   ]
  },
  {
   "cell_type": "code",
   "execution_count": 36,
   "metadata": {},
   "outputs": [
    {
     "name": "stdout",
     "output_type": "stream",
     "text": [
      "{'id': 'run_hRxlTlSlYA8XGvyhgzK7pMXo',\n",
      " 'object': 'thread.run',\n",
      " 'created_at': 1739807807,\n",
      " 'assistant_id': 'asst_lHmmRLrLOJ051eikWpVYqVYD',\n",
      " 'thread_id': 'thread_HPbFaNTL2BhOsh4i2Om5aNrx',\n",
      " 'status': 'completed',\n",
      " 'started_at': 1739807807,\n",
      " 'expires_at': None,\n",
      " 'cancelled_at': None,\n",
      " 'failed_at': None,\n",
      " 'completed_at': 1739807811,\n",
      " 'required_action': None,\n",
      " 'last_error': None,\n",
      " 'model': 'gpt-4o-mini',\n",
      " 'instructions': 'You are a financial agent, providing portfolio guidance for users. Avoid using '\n",
      "                 'too technical terms, and be clear about the risks.',\n",
      " 'tools': [],\n",
      " 'tool_resources': {},\n",
      " 'metadata': {},\n",
      " 'temperature': 1.0,\n",
      " 'top_p': 1.0,\n",
      " 'max_completion_tokens': None,\n",
      " 'max_prompt_tokens': None,\n",
      " 'truncation_strategy': {'type': 'auto', 'last_messages': None},\n",
      " 'incomplete_details': None,\n",
      " 'usage': {'prompt_tokens': 81,\n",
      "           'completion_tokens': 487,\n",
      "           'total_tokens': 568,\n",
      "           'prompt_token_details': {'cached_tokens': 0}},\n",
      " 'response_format': 'auto',\n",
      " 'tool_choice': 'auto',\n",
      " 'parallel_tool_calls': True}\n"
     ]
    }
   ],
   "source": [
    "pprint(project.agents.create_and_process_run(thread_id=thread_jane.id, assistant_id=portfolio_agent.id)) "
   ]
  },
  {
   "cell_type": "markdown",
   "metadata": {},
   "source": [
    "Now, let's list the message that was created and added to the thread. You will see that the agent added a new message to the list."
   ]
  },
  {
   "cell_type": "code",
   "execution_count": 37,
   "metadata": {},
   "outputs": [
    {
     "name": "stdout",
     "output_type": "stream",
     "text": [
      "{'object': 'list',\n",
      " 'data': [{'id': 'msg_mTyrPnJsIKYh8WHl9DcvIjw4',\n",
      "           'object': 'thread.message',\n",
      "           'created_at': 1739807808,\n",
      "           'assistant_id': 'asst_lHmmRLrLOJ051eikWpVYqVYD',\n",
      "           'thread_id': 'thread_HPbFaNTL2BhOsh4i2Om5aNrx',\n",
      "           'run_id': 'run_hRxlTlSlYA8XGvyhgzK7pMXo',\n",
      "           'role': 'assistant',\n",
      "           'content': [{'type': 'text',\n",
      "                        'text': {'value': 'The best option for investing your money depends on '\n",
      "                                          'your personal financial goals, risk tolerance, time '\n",
      "                                          'horizon, and current financial situation. Here are some '\n",
      "                                          'common investment avenues, along with their potential '\n",
      "                                          'risks and benefits:\\n'\n",
      "                                          '\\n'\n",
      "                                          '1. **Savings Account**: \\n'\n",
      "                                          '   - **Pros**: Very safe, easy to access, and you earn '\n",
      "                                          'some interest.\\n'\n",
      "                                          '   - **Cons**: Usually offers low interest rates, so '\n",
      "                                          'your money might not grow much over time.\\n'\n",
      "                                          '\\n'\n",
      "                                          '2. **Stocks**: \\n'\n",
      "                                          '   - **Pros**: Potential for higher returns if you '\n",
      "                                          'choose well-performing companies. \\n'\n",
      "                                          '   - **Cons**: Higher risk; the stock market can be '\n",
      "                                          'volatile, and you might lose money, especially in the '\n",
      "                                          'short term.\\n'\n",
      "                                          '\\n'\n",
      "                                          '3. **Bonds**: \\n'\n",
      "                                          '   - **Pros**: Generally safer than stocks, offer fixed '\n",
      "                                          'interest over time.\\n'\n",
      "                                          '   - **Cons**: Lower returns compared to stocks; if '\n",
      "                                          'interest rates rise, existing bonds may drop in value.\\n'\n",
      "                                          '\\n'\n",
      "                                          '4. **Mutual Funds/ETFs**: \\n'\n",
      "                                          '   - **Pros**: Diversify your investment, which can '\n",
      "                                          'reduce risk. They pool money from many investors to buy '\n",
      "                                          'a variety of assets.\\n'\n",
      "                                          '   - **Cons**: Management fees can eat into your '\n",
      "                                          'returns, and some funds may be underperformers.\\n'\n",
      "                                          '\\n'\n",
      "                                          '5. **Real Estate**: \\n'\n",
      "                                          '   - **Pros**: Can provide a steady income through rent '\n",
      "                                          'and has the potential for long-term value growth.\\n'\n",
      "                                          '   - **Cons**: Requires significant capital upfront, '\n",
      "                                          'ongoing costs like maintenance, and can take time to '\n",
      "                                          'sell.\\n'\n",
      "                                          '\\n'\n",
      "                                          '6. **Retirement Accounts (e.g., 401(k), IRA)**:\\n'\n",
      "                                          '   - **Pros**: Tax advantages that can help your money '\n",
      "                                          'grow faster. \\n'\n",
      "                                          '   - **Cons**: Usually, you cannot access these funds '\n",
      "                                          'until retirement age without penalties.\\n'\n",
      "                                          '\\n'\n",
      "                                          '7. **Cryptocurrencies**: \\n'\n",
      "                                          '   - **Pros**: Potential for very high returns and a '\n",
      "                                          'growing market.\\n'\n",
      "                                          '   - **Cons**: Extremely high risk and volatility; you '\n",
      "                                          'can lose a significant amount in a short time.\\n'\n",
      "                                          '\\n'\n",
      "                                          'Before making any investment, consider how comfortable '\n",
      "                                          \"you are with risk. It's often wise to consult with a \"\n",
      "                                          'financial advisor to develop a plan tailored to your '\n",
      "                                          'situation. Diversifying your investments (spreading '\n",
      "                                          'your money across different types) can help reduce '\n",
      "                                          'risk. Always remember, all investments come with some '\n",
      "                                          'level of risk, and it’s important to only invest money '\n",
      "                                          'you can afford to lose.',\n",
      "                                 'annotations': []}}],\n",
      "           'attachments': [],\n",
      "           'metadata': {}},\n",
      "          {'id': 'msg_rWipqqjGKxy861tKkP38siZ6',\n",
      "           'object': 'thread.message',\n",
      "           'created_at': 1739807800,\n",
      "           'assistant_id': None,\n",
      "           'thread_id': 'thread_HPbFaNTL2BhOsh4i2Om5aNrx',\n",
      "           'run_id': None,\n",
      "           'role': 'user',\n",
      "           'content': [{'type': 'text',\n",
      "                        'text': {'value': 'What is the best option to invest my money?',\n",
      "                                 'annotations': []}}],\n",
      "           'attachments': [],\n",
      "           'metadata': {}}],\n",
      " 'first_id': 'msg_mTyrPnJsIKYh8WHl9DcvIjw4',\n",
      " 'last_id': 'msg_rWipqqjGKxy861tKkP38siZ6',\n",
      " 'has_more': False}\n"
     ]
    }
   ],
   "source": [
    "pprint(project.agents.list_messages(thread_jane.id))"
   ]
  },
  {
   "cell_type": "markdown",
   "metadata": {},
   "source": [
    "## Creating Agents using OpenAI SDK\n",
    "\n",
    "Another way of creating agents is using OpenAI SDK. In this case, they are called **assistants**. \n",
    "\n",
    "To create one, we need an Azure OpenAI deployment reference, which can be acquired using the following code."
   ]
  },
  {
   "cell_type": "code",
   "execution_count": 38,
   "metadata": {},
   "outputs": [],
   "source": [
    "openai_client = project.inference.get_azure_openai_client(\n",
    "    api_version=os.environ.get(\"AZURE_OPENAI_API_VERSION\"),\n",
    ")"
   ]
  },
  {
   "cell_type": "markdown",
   "metadata": {},
   "source": [
    "Now, let's create an assistant to help users about branding questions using this client."
   ]
  },
  {
   "cell_type": "code",
   "execution_count": 39,
   "metadata": {},
   "outputs": [
    {
     "name": "stdout",
     "output_type": "stream",
     "text": [
      "Assistant(id='asst_9GQFmRbTcVYz7L3pjdixOiav', created_at=1739807829, description=None, instructions='You are a marketing agent, providing guidance about the correct way to use our branding. Make sure to warn users that our logo must be at the same size as the other company logos.', metadata={}, model='gpt-4o-mini', name='Branding Guidance', object='assistant', tools=[], response_format='auto', temperature=1.0, tool_resources=ToolResources(code_interpreter=None, file_search=None), top_p=1.0)\n"
     ]
    }
   ],
   "source": [
    "branding_agent = openai_client.beta.assistants.create(\n",
    "    model=\"gpt-4o-mini\",\n",
    "    name=\"Branding Guidance\",\n",
    "    instructions=\"You are a marketing agent, providing guidance about the correct way to use our branding. Make sure to warn users that our logo must be at the same size as the other company logos.\"\n",
    ")\n",
    "pprint(branding_agent)"
   ]
  },
  {
   "cell_type": "markdown",
   "metadata": {},
   "source": [
    "The same way we did using Agent Service SDK, we can use the OpenAI SDK to list, update or delete assistants."
   ]
  },
  {
   "cell_type": "code",
   "execution_count": 40,
   "metadata": {},
   "outputs": [
    {
     "name": "stdout",
     "output_type": "stream",
     "text": [
      "SyncCursorPage[Assistant](data=[Assistant(id='asst_9GQFmRbTcVYz7L3pjdixOiav', created_at=1739807829, description=None, instructions='You are a marketing agent, providing guidance about the correct way to use our branding. Make sure to warn users that our logo must be at the same size as the other company logos.', metadata={}, model='gpt-4o-mini', name='Branding Guidance', object='assistant', tools=[], response_format='auto', temperature=1.0, tool_resources=ToolResources(code_interpreter=None, file_search=None), top_p=1.0)], has_more=False, object='list', first_id='asst_9GQFmRbTcVYz7L3pjdixOiav', last_id='asst_9GQFmRbTcVYz7L3pjdixOiav')\n"
     ]
    }
   ],
   "source": [
    "pprint(openai_client.beta.assistants.list())"
   ]
  },
  {
   "cell_type": "markdown",
   "metadata": {},
   "source": [
    "Maria has some questions about how the company logo can be used. We will create using a single call a thread with a list of messages. Previously we created this in two differente calls."
   ]
  },
  {
   "cell_type": "code",
   "execution_count": 41,
   "metadata": {},
   "outputs": [
    {
     "name": "stdout",
     "output_type": "stream",
     "text": [
      "Thread(id='thread_pdX38TmIjO0QJvI8hfsPfluh', created_at=1739807834, metadata={}, object='thread', tool_resources=ToolResources(code_interpreter=None, file_search=None))\n"
     ]
    }
   ],
   "source": [
    "thread_maria = openai_client.beta.threads.create(\n",
    "    messages= [\n",
    "        {\n",
    "            \"role\": \"user\",\n",
    "            \"content\": \"I need to add the company logo side by side with another company logo. Is there any guidance about it?\",         \n",
    "        }\n",
    "    ]\n",
    ")\n",
    "pprint(thread_maria)"
   ]
  },
  {
   "cell_type": "markdown",
   "metadata": {},
   "source": [
    "Execute the assistant over the thread."
   ]
  },
  {
   "cell_type": "code",
   "execution_count": 42,
   "metadata": {},
   "outputs": [
    {
     "name": "stdout",
     "output_type": "stream",
     "text": [
      "Run(id='run_FAVnjQxPrDA9VRbNc6zJQHGV', assistant_id='asst_9GQFmRbTcVYz7L3pjdixOiav', cancelled_at=None, completed_at=None, created_at=1739807836, expires_at=1739808436, failed_at=None, incomplete_details=None, instructions='You are a marketing agent, providing guidance about the correct way to use our branding. Make sure to warn users that our logo must be at the same size as the other company logos.', last_error=None, max_completion_tokens=None, max_prompt_tokens=None, metadata={}, model='gpt-4o-mini', object='thread.run', parallel_tool_calls=True, required_action=None, response_format='auto', started_at=None, status='queued', thread_id='thread_pdX38TmIjO0QJvI8hfsPfluh', tool_choice='auto', tools=[], truncation_strategy=TruncationStrategy(type='auto', last_messages=None), usage=None, temperature=1.0, top_p=1.0, tool_resources={})\n"
     ]
    }
   ],
   "source": [
    "run = openai_client.beta.threads.runs.create(\n",
    "    thread_id=thread_maria.id,\n",
    "    assistant_id=branding_agent.id,\n",
    ")\n",
    "pprint(run)"
   ]
  },
  {
   "cell_type": "markdown",
   "metadata": {},
   "source": [
    "Print the message created by the assistant."
   ]
  },
  {
   "cell_type": "code",
   "execution_count": 43,
   "metadata": {},
   "outputs": [
    {
     "name": "stdout",
     "output_type": "stream",
     "text": [
      "SyncCursorPage[Message](data=[Message(id='msg_z3FER0QIZXU56NV6mSWc1RcU', assistant_id='asst_9GQFmRbTcVYz7L3pjdixOiav', attachments=[], completed_at=None, content=[TextContentBlock(text=Text(annotations=[], value='Absolutely! When placing our logo alongside another company logo, please adhere to the following guidelines to ensure proper representation of our brand:\\n\\n1. **Equal Sizing:** Our logo must be the same size as the other company logos to maintain visual balance. Avoid enlarging or reducing our logo in a way that makes it appear dominant or less significant compared to the others.\\n\\n2. **Clear Space:** Ensure there is sufficient clear space around our logo, free from any other text or images. This helps enhance visibility and preserves brand integrity.\\n\\n3. **Placement:** Position the logos on a neutral background that does not clash with either brand, ensuring both logos can be clearly distinguished.\\n\\n4. **Alignment:** Align the logos so they are visually harmonious, whether that be horizontally or vertically.\\n\\n5. **Color Usage:** Make sure to use the correct color version of our logo. If the other logo is in color, refrain from using a monochromatic version of ours unless specified.\\n\\n6. **Proportion:** Maintain the aspect ratio of our logo when sizing it, to ensure it looks professional and maintains its integrity.\\n\\nAlways remember that our logo reflects our brand identity, so proper usage is key to maintaining our image. If you have any further questions or need specific formats, feel free to reach out!'), type='text')], created_at=1739807837, incomplete_at=None, incomplete_details=None, metadata={}, object='thread.message', role='assistant', run_id='run_FAVnjQxPrDA9VRbNc6zJQHGV', status=None, thread_id='thread_pdX38TmIjO0QJvI8hfsPfluh'), Message(id='msg_jfQrPxFj597Aau7449MoNJKF', assistant_id=None, attachments=[], completed_at=None, content=[TextContentBlock(text=Text(annotations=[], value='I need to add the company logo side by side with another company logo. Is there any guidance about it?'), type='text')], created_at=1739807834, incomplete_at=None, incomplete_details=None, metadata={}, object='thread.message', role='user', run_id=None, status=None, thread_id='thread_pdX38TmIjO0QJvI8hfsPfluh')], has_more=False, object='list', first_id='msg_z3FER0QIZXU56NV6mSWc1RcU', last_id='msg_jfQrPxFj597Aau7449MoNJKF')\n"
     ]
    }
   ],
   "source": [
    "pprint(openai_client.beta.threads.messages.list(thread_id=thread_maria.id))"
   ]
  },
  {
   "cell_type": "markdown",
   "metadata": {},
   "source": [
    "As you can see using Agent Service SDK or OpenAI SDK the experience today is almost the same, however the recomendation is to use the Agent Service SDK.\n",
    "\n",
    "\n",
    "You have reached the end of this lab. 👏"
   ]
  }
 ],
 "metadata": {
  "kernelspec": {
   "display_name": "Python 3",
   "language": "python",
   "name": "python3"
  },
  "language_info": {
   "codemirror_mode": {
    "name": "ipython",
    "version": 3
   },
   "file_extension": ".py",
   "mimetype": "text/x-python",
   "name": "python",
   "nbconvert_exporter": "python",
   "pygments_lexer": "ipython3",
   "version": "3.10.16"
  }
 },
 "nbformat": 4,
 "nbformat_minor": 2
}
